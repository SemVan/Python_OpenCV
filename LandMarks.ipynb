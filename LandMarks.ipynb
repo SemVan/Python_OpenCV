{
 "cells": [
  {
   "cell_type": "code",
   "execution_count": 4,
   "metadata": {
    "collapsed": false
   },
   "outputs": [
    {
     "name": "stdout",
     "output_type": "stream",
     "text": [
      "161 92 370 370\n"
     ]
    }
   ],
   "source": [
    "import cv2\n",
    "import dlib\n",
    "import numpy\n",
    "\n",
    "PREDICTOR_PATH = \"shape_predictor_68_face_landmarks.dat\"\n",
    "predictor = dlib.shape_predictor(PREDICTOR_PATH)\n",
    "cascade_path='haarcascade_frontalface_alt.xml'\n",
    "cascade = cv2.CascadeClassifier(cascade_path)\n",
    "\n",
    "# #This is using the Dlib Face Detector . Better result more time taking\n",
    "# def get_landmarks(im):\n",
    "#     rects = detector(im, 1)\n",
    "#     rect=rects[0]\n",
    "#     print type(rect.width())\n",
    "#     fwd=int(rect.width())\n",
    "#     if len(rects) == 0:\n",
    "#         return None,None\n",
    "\n",
    "#     return np.matrix([[p.x, p.y] for p in predictor(im, rects[0]).parts()]),fwd\n",
    "\n",
    "def get_landmarks(im):\n",
    "    rects = cascade.detectMultiScale(im, 1.3,5)\n",
    "    x,y,w,h = rects[0]\n",
    "    print(x,y,w,h)\n",
    "    rect = dlib.rectangle(int(x), int(y), int(x+w), int(y+h))\n",
    "    return numpy.matrix([[p.x, p.y] for p in predictor(im, rect).parts()])\n",
    "\n",
    "def annotate_landmarks(im, landmarks):\n",
    "    im = im.copy()\n",
    "    for idx, point in enumerate(landmarks):\n",
    "        pos = (point[0, 0], point[0, 1])\n",
    "        cv2.putText(im, str(idx), pos,\n",
    "                    fontFace=cv2.FONT_HERSHEY_SCRIPT_SIMPLEX,\n",
    "                    fontScale=0.4,\n",
    "                    color=(0, 0, 255))\n",
    "        cv2.circle(im, pos, 3, color=(0, 255, 255))\n",
    "    return im\n",
    "\n",
    "im=cv2.imread('obema.jpg')\n",
    "cv2.imshow('Result',annotate_landmarks(im,get_landmarks(im)))\n",
    "cv2.waitKey(0)\n",
    "cv2.destroyAllWindows()"
   ]
  },
  {
   "cell_type": "code",
   "execution_count": null,
   "metadata": {
    "collapsed": true
   },
   "outputs": [],
   "source": []
  }
 ],
 "metadata": {
  "anaconda-cloud": {},
  "kernelspec": {
   "display_name": "Python [conda root]",
   "language": "python",
   "name": "conda-root-py"
  },
  "language_info": {
   "codemirror_mode": {
    "name": "ipython",
    "version": 3
   },
   "file_extension": ".py",
   "mimetype": "text/x-python",
   "name": "python",
   "nbconvert_exporter": "python",
   "pygments_lexer": "ipython3",
   "version": "3.5.2"
  }
 },
 "nbformat": 4,
 "nbformat_minor": 1
}
